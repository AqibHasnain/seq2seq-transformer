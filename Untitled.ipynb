{
 "cells": [
  {
   "cell_type": "code",
   "execution_count": 12,
   "metadata": {},
   "outputs": [],
   "source": [
    "import math\n",
    "import torch\n",
    "import torch.nn as nn\n",
    "import torch.nn.functional as F"
   ]
  },
  {
   "cell_type": "markdown",
   "metadata": {},
   "source": [
    "### Define the model "
   ]
  },
  {
   "cell_type": "code",
   "execution_count": 6,
   "metadata": {},
   "outputs": [],
   "source": [
    "class TransformerModel(nn.Module):\n",
    "\n",
    "    def __init__(self, ntoken, ninp, nhead, nhid, nlayers, dropout=0.5):\n",
    "        super(TransformerModel, self).__init__()\n",
    "        from torch.nn import TransformerEncoder, TransformerEncoderLayer\n",
    "        self.model_type = 'Transformer'\n",
    "        self.ninp = ninp\n",
    "        self.encoder = nn.Embedding(ntoken, ninp) \n",
    "        self.pos_encoder = PositionalEncoding(ninp, dropout)\n",
    "        encoder_layers = TransformerEncoderLayer(ninp, nhead, nhid, dropout)\n",
    "        self.transformer_encoder = TransformerEncoder(encoder_layers, nlayers)\n",
    "        self.decoder = nn.Linear(ninp, ntoken)\n",
    "\n",
    "        self.init_weights()\n",
    "        \n",
    "    def generate_square_subsequent_mask(self, sz):\n",
    "        mask = (torch.triu(torch.ones(sz, sz)) == 1).transpose(0, 1)\n",
    "        mask = mask.float().masked_fill(mask == 0, float('-inf')).masked_fill(mask == 1, float(0.0))\n",
    "        return mask\n",
    "    \n",
    "    def init_weights(self):\n",
    "        initrange = 0.1\n",
    "        self.encoder.weight.data.uniform_(-initrange, initrange)\n",
    "        self.decoder.bias.data.zero_()\n",
    "        self.decoder.weight.data.uniform_(-initrange, initrange)\n",
    "\n",
    "    def forward(self, src, src_mask):\n",
    "        src = self.encoder(src) * math.sqrt(self.ninp)\n",
    "        src = self.pos_encoder(src)\n",
    "        output = self.transformer_encoder(src, src_mask)\n",
    "        output = self.decoder(output)\n",
    "        return output"
   ]
  },
  {
   "cell_type": "code",
   "execution_count": 13,
   "metadata": {},
   "outputs": [],
   "source": [
    "class PositionalEncoding(nn.Module):\n",
    "\n",
    "    def __init__(self, d_model, dropout=0.1, max_len=5000):\n",
    "        super(PositionalEncoding, self).__init__()\n",
    "        self.dropout = nn.Dropout(p=dropout)\n",
    "\n",
    "        pe = torch.zeros(max_len, d_model)\n",
    "        position = torch.arange(0, max_len, dtype=torch.float).unsqueeze(1)\n",
    "        div_term = torch.exp(torch.arange(0, d_model, 2).float() * (-math.log(10000.0) / d_model))\n",
    "        pe[:, 0::2] = torch.sin(position * div_term)\n",
    "        pe[:, 1::2] = torch.cos(position * div_term)\n",
    "        pe = pe.unsqueeze(0).transpose(0, 1)\n",
    "        self.register_buffer('pe', pe)\n",
    "\n",
    "    def forward(self, x):\n",
    "        x = x + self.pe[:x.size(0), :]\n",
    "        return self.dropout(x)"
   ]
  },
  {
   "cell_type": "markdown",
   "metadata": {},
   "source": [
    "### Load and batch the data"
   ]
  },
  {
   "cell_type": "code",
   "execution_count": 17,
   "metadata": {},
   "outputs": [],
   "source": [
    "import io\n",
    "from torchtext.utils import download_from_url, extract_archive\n",
    "from torchtext.data.utils import get_tokenizer\n",
    "from torchtext.vocab import build_vocab_from_iterator"
   ]
  },
  {
   "cell_type": "code",
   "execution_count": 22,
   "metadata": {},
   "outputs": [],
   "source": [
    "url = 'https://s3.amazonaws.com/research.metamind.io/wikitext/wikitext-2-v1.zip'\n",
    "test_filepath, valid_filepath, train_filepath = extract_archive(download_from_url(url))\n",
    "tokenizer = get_tokenizer('basic_english')\n",
    "vocab = build_vocab_from_iterator(map(tokenizer,\n",
    "                                      iter(io.open(train_filepath,\n",
    "                                                   encoding=\"utf8\"))))"
   ]
  },
  {
   "cell_type": "code",
   "execution_count": 38,
   "metadata": {},
   "outputs": [
    {
     "name": "stdout",
     "output_type": "stream",
     "text": [
      "2049990 214417 241859\n"
     ]
    }
   ],
   "source": [
    "def data_process(raw_text_iter):\n",
    "    data = [torch.tensor([vocab[token] for token in tokenizer(item)],\n",
    "                       dtype=torch.long) for item in raw_text_iter]\n",
    "    return torch.cat(tuple(filter(lambda t: t.numel() > 0, data)))\n",
    "\n",
    "train_data = data_process(iter(io.open(train_filepath, encoding=\"utf8\")))\n",
    "val_data = data_process(iter(io.open(valid_filepath, encoding=\"utf8\")))\n",
    "test_data = data_process(iter(io.open(test_filepath, encoding=\"utf8\")))\n",
    "print(train_data.size(0),val_data.size(0),test_data.size(0))\n",
    "\n",
    "device = torch.device(\"cuda\" if torch.cuda.is_available() else \"cpu\")"
   ]
  },
  {
   "cell_type": "code",
   "execution_count": 40,
   "metadata": {},
   "outputs": [],
   "source": [
    "def batchify(data, bsz):\n",
    "    # Divide the dataset into bsz parts.\n",
    "    nbatch = data.size(0) // bsz\n",
    "    # Trim off any extra elements that wouldn't cleanly fit (remainders).\n",
    "    data = data.narrow(0, 0, nbatch * bsz)\n",
    "    # Evenly divide the data across the bsz batches.\n",
    "    data = data.view(bsz, -1).t().contiguous()\n",
    "    return data.to(device)\n",
    "\n",
    "batch_size = 20\n",
    "eval_batch_size = 10\n",
    "train_data = batchify(train_data, batch_size)\n",
    "val_data = batchify(val_data, eval_batch_size)\n",
    "test_data = batchify(test_data, eval_batch_size)"
   ]
  },
  {
   "cell_type": "markdown",
   "metadata": {},
   "source": [
    "### Functions to generate input and target sequence"
   ]
  },
  {
   "cell_type": "code",
   "execution_count": 41,
   "metadata": {},
   "outputs": [],
   "source": [
    "bptt = 35\n",
    "def get_batch(source, i):\n",
    "    seq_len = min(bptt, len(source) - 1 - i)\n",
    "    data = source[i:i+seq_len]\n",
    "    target = source[i+1:i+1+seq_len].reshape(-1)\n",
    "    return data, target"
   ]
  },
  {
   "cell_type": "markdown",
   "metadata": {},
   "source": [
    "### Initiate an instance"
   ]
  },
  {
   "cell_type": "code",
   "execution_count": 54,
   "metadata": {},
   "outputs": [],
   "source": [
    "ntokens = len(vocab.stoi) # the size of vocabulary\n",
    "emsize = 200 # embedding dimension\n",
    "nhid = 200 # the dimension of the feedforward network model in nn.TransformerEncoder\n",
    "nlayers = 2 # the number of nn.TransformerEncoderLayer in nn.TransformerEncoder\n",
    "nhead = 2 # the number of heads in the multiheadattention models\n",
    "dropout = 0.2 # the dropout value\n",
    "model = TransformerModel(ntokens, emsize, nhead, nhid, nlayers, dropout).to(device)"
   ]
  },
  {
   "cell_type": "markdown",
   "metadata": {},
   "source": [
    "### Run the model"
   ]
  },
  {
   "cell_type": "code",
   "execution_count": 55,
   "metadata": {},
   "outputs": [],
   "source": [
    "criterion = nn.CrossEntropyLoss()\n",
    "lr = 5.0 # learning rate\n",
    "optimizer = torch.optim.SGD(model.parameters(), lr=lr)\n",
    "scheduler = torch.optim.lr_scheduler.StepLR(optimizer, 1.0, gamma=0.95)"
   ]
  },
  {
   "cell_type": "code",
   "execution_count": 57,
   "metadata": {},
   "outputs": [],
   "source": [
    "import time\n",
    "def train():\n",
    "    model.train() # Turn on the train mode\n",
    "    total_loss = 0.\n",
    "    start_time = time.time()\n",
    "    src_mask = model.generate_square_subsequent_mask(bptt).to(device)\n",
    "    for batch, i in enumerate(range(0, train_data.size(0) - 1, bptt)):\n",
    "        data, targets = get_batch(train_data, i)\n",
    "        optimizer.zero_grad()\n",
    "        if data.size(0) != bptt:\n",
    "            src_mask = model.generate_square_subsequent_mask(data.size(0)).to(device)\n",
    "        output = model(data, src_mask)\n",
    "        loss = criterion(output.view(-1, ntokens), targets)\n",
    "        loss.backward()\n",
    "        torch.nn.utils.clip_grad_norm_(model.parameters(), 0.5)\n",
    "        optimizer.step()\n",
    "\n",
    "        total_loss += loss.item()\n",
    "        log_interval = 200\n",
    "        if batch % log_interval == 0 and batch > 0:\n",
    "            cur_loss = total_loss / log_interval\n",
    "            elapsed = time.time() - start_time\n",
    "            print('| epoch {:3d} | {:5d}/{:5d} batches | '\n",
    "                  'lr {:02.2f} | ms/batch {:5.2f} | '\n",
    "                  'loss {:5.2f} | ppl {:8.2f}'.format(\n",
    "                    epoch, batch, len(train_data) // bptt, scheduler.get_lr()[0],\n",
    "                    elapsed * 1000 / log_interval,\n",
    "                    cur_loss, math.exp(cur_loss)))\n",
    "            total_loss = 0\n",
    "            start_time = time.time()\n",
    "\n",
    "def evaluate(eval_model, data_source):\n",
    "    eval_model.eval() # Turn on the evaluation mode\n",
    "    total_loss = 0.\n",
    "    src_mask = model.generate_square_subsequent_mask(bptt).to(device)\n",
    "    with torch.no_grad():\n",
    "        for i in range(0, data_source.size(0) - 1, bptt):\n",
    "            data, targets = get_batch(data_source, i)\n",
    "            if data.size(0) != bptt:\n",
    "                src_mask = model.generate_square_subsequent_mask(data.size(0)).to(device)\n",
    "            output = eval_model(data, src_mask)\n",
    "            output_flat = output.view(-1, ntokens)\n",
    "            total_loss += len(data) * criterion(output_flat, targets).item()\n",
    "    return total_loss / (len(data_source) - 1)"
   ]
  },
  {
   "cell_type": "code",
   "execution_count": 58,
   "metadata": {},
   "outputs": [
    {
     "name": "stderr",
     "output_type": "stream",
     "text": [
      "/usr/local/lib/python3.8/site-packages/torch/optim/lr_scheduler.py:369: UserWarning: To get the last learning rate computed by the scheduler, please use `get_last_lr()`.\n",
      "  warnings.warn(\"To get the last learning rate computed by the scheduler, \"\n"
     ]
    },
    {
     "name": "stdout",
     "output_type": "stream",
     "text": [
      "| epoch   1 |   200/ 2928 batches | lr 5.00 | ms/batch 428.85 | loss  8.21 | ppl  3672.67\n",
      "| epoch   1 |   400/ 2928 batches | lr 5.00 | ms/batch 425.09 | loss  6.90 | ppl   992.52\n",
      "| epoch   1 |   600/ 2928 batches | lr 5.00 | ms/batch 419.33 | loss  6.46 | ppl   639.57\n",
      "| epoch   1 |   800/ 2928 batches | lr 5.00 | ms/batch 419.46 | loss  6.31 | ppl   551.30\n",
      "| epoch   1 |  1000/ 2928 batches | lr 5.00 | ms/batch 419.62 | loss  6.18 | ppl   484.33\n",
      "| epoch   1 |  1200/ 2928 batches | lr 5.00 | ms/batch 418.16 | loss  6.15 | ppl   471.00\n",
      "| epoch   1 |  1400/ 2928 batches | lr 5.00 | ms/batch 418.67 | loss  6.12 | ppl   452.67\n",
      "| epoch   1 |  1600/ 2928 batches | lr 5.00 | ms/batch 7278.48 | loss  6.10 | ppl   445.88\n",
      "| epoch   1 |  1800/ 2928 batches | lr 5.00 | ms/batch 469.28 | loss  6.02 | ppl   411.38\n",
      "| epoch   1 |  2000/ 2928 batches | lr 5.00 | ms/batch 422.27 | loss  6.01 | ppl   406.47\n",
      "| epoch   1 |  2200/ 2928 batches | lr 5.00 | ms/batch 448.86 | loss  5.90 | ppl   363.84\n",
      "| epoch   1 |  2400/ 2928 batches | lr 5.00 | ms/batch 426.13 | loss  5.96 | ppl   389.24\n",
      "| epoch   1 |  2600/ 2928 batches | lr 5.00 | ms/batch 425.68 | loss  5.95 | ppl   384.43\n",
      "| epoch   1 |  2800/ 2928 batches | lr 5.00 | ms/batch 450.31 | loss  5.87 | ppl   355.18\n",
      "-----------------------------------------------------------------------------------------\n",
      "| end of epoch   1 | time: 2667.05s | valid loss  5.81 | valid ppl   335.03\n",
      "-----------------------------------------------------------------------------------------\n",
      "| epoch   2 |   200/ 2928 batches | lr 4.51 | ms/batch 753.25 | loss  5.87 | ppl   354.17\n",
      "| epoch   2 |   400/ 2928 batches | lr 4.51 | ms/batch 446.87 | loss  5.86 | ppl   349.43\n",
      "| epoch   2 |   600/ 2928 batches | lr 4.51 | ms/batch 443.19 | loss  5.68 | ppl   291.55\n",
      "| epoch   2 |   800/ 2928 batches | lr 4.51 | ms/batch 445.73 | loss  5.70 | ppl   299.50\n",
      "| epoch   2 |  1000/ 2928 batches | lr 4.51 | ms/batch 449.36 | loss  5.65 | ppl   284.11\n",
      "| epoch   2 |  1200/ 2928 batches | lr 4.51 | ms/batch 448.21 | loss  5.68 | ppl   293.45\n",
      "| epoch   2 |  1400/ 2928 batches | lr 4.51 | ms/batch 447.43 | loss  5.69 | ppl   295.07\n",
      "| epoch   2 |  1600/ 2928 batches | lr 4.51 | ms/batch 452.26 | loss  5.70 | ppl   300.21\n",
      "| epoch   2 |  1800/ 2928 batches | lr 4.51 | ms/batch 451.86 | loss  5.65 | ppl   283.35\n",
      "| epoch   2 |  2000/ 2928 batches | lr 4.51 | ms/batch 450.13 | loss  5.67 | ppl   290.44\n",
      "| epoch   2 |  2200/ 2928 batches | lr 4.51 | ms/batch 450.83 | loss  5.55 | ppl   256.85\n",
      "| epoch   2 |  2400/ 2928 batches | lr 4.51 | ms/batch 447.78 | loss  5.65 | ppl   284.58\n",
      "| epoch   2 |  2600/ 2928 batches | lr 4.51 | ms/batch 447.52 | loss  5.65 | ppl   284.63\n",
      "| epoch   2 |  2800/ 2928 batches | lr 4.51 | ms/batch 452.44 | loss  5.58 | ppl   264.86\n",
      "-----------------------------------------------------------------------------------------\n",
      "| end of epoch   2 | time: 1411.40s | valid loss  5.63 | valid ppl   279.45\n",
      "-----------------------------------------------------------------------------------------\n",
      "| epoch   3 |   200/ 2928 batches | lr 4.29 | ms/batch 449.32 | loss  5.60 | ppl   270.31\n",
      "| epoch   3 |   400/ 2928 batches | lr 4.29 | ms/batch 445.83 | loss  5.62 | ppl   275.48\n",
      "| epoch   3 |   600/ 2928 batches | lr 4.29 | ms/batch 446.94 | loss  5.43 | ppl   227.84\n",
      "| epoch   3 |   800/ 2928 batches | lr 4.29 | ms/batch 446.05 | loss  5.48 | ppl   240.04\n",
      "| epoch   3 |  1000/ 2928 batches | lr 4.29 | ms/batch 442.77 | loss  5.43 | ppl   228.44\n",
      "| epoch   3 |  1200/ 2928 batches | lr 4.29 | ms/batch 441.75 | loss  5.48 | ppl   239.22\n",
      "| epoch   3 |  1400/ 2928 batches | lr 4.29 | ms/batch 443.04 | loss  5.49 | ppl   242.21\n",
      "| epoch   3 |  1600/ 2928 batches | lr 4.29 | ms/batch 439.67 | loss  5.51 | ppl   248.12\n",
      "| epoch   3 |  1800/ 2928 batches | lr 4.29 | ms/batch 438.51 | loss  5.48 | ppl   239.09\n",
      "| epoch   3 |  2000/ 2928 batches | lr 4.29 | ms/batch 439.25 | loss  5.48 | ppl   240.28\n",
      "| epoch   3 |  2200/ 2928 batches | lr 4.29 | ms/batch 462.19 | loss  5.35 | ppl   211.26\n",
      "| epoch   3 |  2400/ 2928 batches | lr 4.29 | ms/batch 448.18 | loss  5.46 | ppl   235.85\n",
      "| epoch   3 |  2600/ 2928 batches | lr 4.29 | ms/batch 487.87 | loss  5.47 | ppl   237.51\n",
      "| epoch   3 |  2800/ 2928 batches | lr 4.29 | ms/batch 473.94 | loss  5.40 | ppl   220.99\n",
      "-----------------------------------------------------------------------------------------\n",
      "| end of epoch   3 | time: 1365.15s | valid loss  5.60 | valid ppl   271.75\n",
      "-----------------------------------------------------------------------------------------\n"
     ]
    }
   ],
   "source": [
    "best_val_loss = float(\"inf\")\n",
    "epochs = 3 # The number of epochs\n",
    "best_model = None\n",
    "\n",
    "for epoch in range(1, epochs + 1):\n",
    "    epoch_start_time = time.time()\n",
    "    train()\n",
    "    val_loss = evaluate(model, val_data)\n",
    "    print('-' * 89)\n",
    "    print('| end of epoch {:3d} | time: {:5.2f}s | valid loss {:5.2f} | '\n",
    "          'valid ppl {:8.2f}'.format(epoch, (time.time() - epoch_start_time),\n",
    "                                     val_loss, math.exp(val_loss)))\n",
    "    print('-' * 89)\n",
    "\n",
    "    if val_loss < best_val_loss:\n",
    "        best_val_loss = val_loss\n",
    "        best_model = model\n",
    "\n",
    "    scheduler.step()"
   ]
  },
  {
   "cell_type": "code",
   "execution_count": 59,
   "metadata": {},
   "outputs": [
    {
     "name": "stdout",
     "output_type": "stream",
     "text": [
      "=========================================================================================\n",
      "| End of training | test loss  5.51 | test ppl   247.82\n",
      "=========================================================================================\n"
     ]
    }
   ],
   "source": [
    "test_loss = evaluate(best_model, test_data)\n",
    "print('=' * 89)\n",
    "print('| End of training | test loss {:5.2f} | test ppl {:8.2f}'.format(\n",
    "    test_loss, math.exp(test_loss)))\n",
    "print('=' * 89)"
   ]
  }
 ],
 "metadata": {
  "kernelspec": {
   "display_name": "Python 3",
   "language": "python",
   "name": "python3"
  },
  "language_info": {
   "codemirror_mode": {
    "name": "ipython",
    "version": 3
   },
   "file_extension": ".py",
   "mimetype": "text/x-python",
   "name": "python",
   "nbconvert_exporter": "python",
   "pygments_lexer": "ipython3",
   "version": "3.8.6"
  }
 },
 "nbformat": 4,
 "nbformat_minor": 4
}
